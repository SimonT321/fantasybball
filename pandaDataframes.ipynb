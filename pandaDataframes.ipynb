{
 "cells": [
  {
   "cell_type": "code",
   "execution_count": 54,
   "metadata": {},
   "outputs": [],
   "source": [
    "import pandas as pd\n",
    "from pandas import DataFrame"
   ]
  },
  {
   "cell_type": "code",
   "execution_count": 44,
   "metadata": {},
   "outputs": [],
   "source": [
    "rosteredPlayersDF = pd.read_csv(r\"rosteredPlayers.csv\")"
   ]
  },
  {
   "cell_type": "code",
   "execution_count": 45,
   "metadata": {},
   "outputs": [
    {
     "data": {
      "text/html": [
       "<div>\n",
       "<style scoped>\n",
       "    .dataframe tbody tr th:only-of-type {\n",
       "        vertical-align: middle;\n",
       "    }\n",
       "\n",
       "    .dataframe tbody tr th {\n",
       "        vertical-align: top;\n",
       "    }\n",
       "\n",
       "    .dataframe thead th {\n",
       "        text-align: right;\n",
       "    }\n",
       "</style>\n",
       "<table border=\"1\" class=\"dataframe\">\n",
       "  <thead>\n",
       "    <tr style=\"text-align: right;\">\n",
       "      <th></th>\n",
       "      <th>Luka Doncic</th>\n",
       "      <th>Kawhi Leonard</th>\n",
       "      <th>Zion Williamson</th>\n",
       "      <th>Fred VanVleet</th>\n",
       "      <th>Jusuf Nurkic</th>\n",
       "      <th>Steven Adams</th>\n",
       "      <th>Victor Oladipo</th>\n",
       "      <th>Julius Randle</th>\n",
       "      <th>Caris LeVert</th>\n",
       "      <th>Blake Griffin</th>\n",
       "      <th>...</th>\n",
       "      <th>DeMar DeRozan</th>\n",
       "      <th>Zach LaVine</th>\n",
       "      <th>Jonas Valanciunas</th>\n",
       "      <th>Delon Wright</th>\n",
       "      <th>LaMelo Ball</th>\n",
       "      <th>Aaron Gordon</th>\n",
       "      <th>Serge Ibaka</th>\n",
       "      <th>Spencer Dinwiddie</th>\n",
       "      <th>Evan Fournier</th>\n",
       "      <th>Marvin Bagley</th>\n",
       "    </tr>\n",
       "  </thead>\n",
       "  <tbody>\n",
       "  </tbody>\n",
       "</table>\n",
       "<p>0 rows × 127 columns</p>\n",
       "</div>"
      ],
      "text/plain": [
       "Empty DataFrame\n",
       "Columns: [Luka Doncic, Kawhi Leonard, Zion Williamson, Fred VanVleet, Jusuf Nurkic, Steven Adams, Victor Oladipo, Julius Randle, Caris LeVert, Blake Griffin, RJ Barrett, Anthony Edwards, James Harden, Russell Westbrook, Jimmy Butler, Rudy Gobert, Chris Paul, Robert Covington, Al Horford, Lonzo Ball, Mason Plumlee, Markelle Fultz, Otto Porter, Terrence Ross, Nikola Jokic, Shai Gilgeous-Alexander, Kyrie Irving, D'Angelo Russell, Kelly Oubre, Draymond Green, Dennis Schroder, Josh Richardson, Kemba Walker, Lauri Markkanen, Myles Turner, Dillon Brooks, Seth Curry, Anthony Davis, Devin Booker, Bam Adebayo, Jamal Murray, John Collins, Devonte' Graham, Michael Porter, Buddy Hield, Danilo Gallinari, Obi Toppin, Rui Hachimura, De'Andre Hunter, Keldon Johnson, Damian Lillard, Pascal Siakam, Brandon Ingram, Ja Morant, Malcolm Brogdon, Andrew Wiggins, Donte DiVincenzo, Terry Rozier, Thomas Bryant, Larry Nance, Tyrese Haliburton, Kyle Kuzma, Tim Hardaway, Trae Young, Jayson Tatum, Deandre Ayton, Donovan Mitchell, De'Aaron Fox, Gordon Hayward, Tyler Herro, Kevin Love, Marcus Smart, Bogdan Bogdanovic, James Wiseman, Darius Garland, Chris Boucher, Karl-Anthony Towns, Stephen Curry, Jrue Holiday, Tobias Harris, T.J. Warren, Kristaps Porzingis, John Wall, Clint Capela, Ricky Rubio, Ivica Zubac, Mikal Bridges, Harrison Barnes, Derrick Rose, Kevin Durant, Ben Simmons, Nikola Vucevic, Khris Middleton, CJ McCollum, Christian Wood, Jaylen Brown, LaMarcus Aldridge, Dejounte Murray, Jaren Jackson, Richaun Holmes, ...]\n",
       "Index: []\n",
       "\n",
       "[0 rows x 127 columns]"
      ]
     },
     "execution_count": 45,
     "metadata": {},
     "output_type": "execute_result"
    }
   ],
   "source": [
    "rosteredPlayersDF"
   ]
  },
  {
   "cell_type": "code",
   "execution_count": 46,
   "metadata": {},
   "outputs": [],
   "source": [
    "allPlayersDF = pd.read_csv(r\"players.csv\")"
   ]
  },
  {
   "cell_type": "code",
   "execution_count": 47,
   "metadata": {},
   "outputs": [
    {
     "data": {
      "text/html": [
       "<div>\n",
       "<style scoped>\n",
       "    .dataframe tbody tr th:only-of-type {\n",
       "        vertical-align: middle;\n",
       "    }\n",
       "\n",
       "    .dataframe tbody tr th {\n",
       "        vertical-align: top;\n",
       "    }\n",
       "\n",
       "    .dataframe thead th {\n",
       "        text-align: right;\n",
       "    }\n",
       "</style>\n",
       "<table border=\"1\" class=\"dataframe\">\n",
       "  <thead>\n",
       "    <tr style=\"text-align: right;\">\n",
       "      <th></th>\n",
       "      <th>Kyrie Irving</th>\n",
       "      <th>Khris Middleton</th>\n",
       "      <th>Anthony Davis</th>\n",
       "      <th>Zion Williamson</th>\n",
       "      <th>Kevin Durant</th>\n",
       "      <th>Nikola Jokic</th>\n",
       "      <th>Kawhi Leonard</th>\n",
       "      <th>Luka Doncic</th>\n",
       "      <th>Goran Dragic</th>\n",
       "      <th>Paul George</th>\n",
       "      <th>...</th>\n",
       "      <th>Gabe Vincent</th>\n",
       "      <th>Tacko Fall</th>\n",
       "      <th>Tre Jones</th>\n",
       "      <th>Vernon Carey</th>\n",
       "      <th>Keita Bates-Diop</th>\n",
       "      <th>Luka Samanic</th>\n",
       "      <th>Max Strus</th>\n",
       "      <th>Justin Jackson</th>\n",
       "      <th>Willy Hernangomez</th>\n",
       "      <th>E'Twaun Moore</th>\n",
       "    </tr>\n",
       "  </thead>\n",
       "  <tbody>\n",
       "  </tbody>\n",
       "</table>\n",
       "<p>0 rows × 432 columns</p>\n",
       "</div>"
      ],
      "text/plain": [
       "Empty DataFrame\n",
       "Columns: [Kyrie Irving, Khris Middleton, Anthony Davis, Zion Williamson, Kevin Durant, Nikola Jokic, Kawhi Leonard, Luka Doncic, Goran Dragic, Paul George, LeBron James, Montrezl Harrell, Brandon Ingram, Duncan Robinson, Jaylen Brown, Jarrett Allen, Nicolas Batum, James Wiseman, Bam Adebayo, Josh Richardson, Monte Morris, Stephen Curry, Jamal Murray, Markieff Morris, Trey Burke, Jrue Holiday, Dennis Schroder, Dwight Powell, Marcus Smart, Kyle Kuzma, Bobby Portis, Will Barton, Serge Ibaka, Avery Bradley, D.J. Augustin, Jayson Tatum, Donte DiVincenzo, Josh Hart, Steven Adams, Sam Merrill, Brad Wanamaker, Giannis Antetokounmpo, Michael Porter, Maxi Kleber, Precious Achiuwa, D.J. Wilson, James Johnson, Damion Lee, Ivica Zubac, Lou Williams, Isaiah Hartenstein, Grant Williams, Semi Ojeleye, Kentavious Caldwell-Pope, DeAndre Jordan, Jimmy Butler, Alex Caruso, Dorian Finney-Smith, Tristan Thompson, Patrick Beverley, Tyler Herro, Tim Hardaway, Luke Kennard, Bryn Forbes, Andre Iguodala, Brook Lopez, Patrick Patterson, Talen Horton-Tucker, Meyers Leonard, Jordan Poole, Spencer Dinwiddie, Landry Shamet, Joe Harris, Boban Marjanovic, Lonzo Ball, Paul Millsap, PJ Dozier, Pat Connaughton, Payton Pritchard, Timothe Luwawu-Cabarrot, Andrew Wiggins, Eric Paschall, Reggie Jackson, Marc Gasol, Alfonzo McKinnie, Thanasis Antetokounmpo, Tyler Johnson, Tyrell Terry, Mychal Mulder, Caris LeVert, Jordan Nwora, Daniel Theis, Marquese Chriss, Taurean Prince, Wesley Iwundu, J.J. Redick, Juan Toscano-Anderson, Jeff Green, Jared Dudley, Javonte Green, ...]\n",
       "Index: []\n",
       "\n",
       "[0 rows x 432 columns]"
      ]
     },
     "execution_count": 47,
     "metadata": {},
     "output_type": "execute_result"
    }
   ],
   "source": [
    "allPlayersDF"
   ]
  },
  {
   "cell_type": "code",
   "execution_count": 48,
   "metadata": {},
   "outputs": [],
   "source": [
    "freeAgents = []\n",
    "for player in allPlayersDF:\n",
    "    if player not in rosteredPlayersDF:\n",
    "        freeAgents.append(player)"
   ]
  },
  {
   "cell_type": "code",
   "execution_count": 49,
   "metadata": {},
   "outputs": [
    {
     "data": {
      "text/html": [
       "<div>\n",
       "<style scoped>\n",
       "    .dataframe tbody tr th:only-of-type {\n",
       "        vertical-align: middle;\n",
       "    }\n",
       "\n",
       "    .dataframe tbody tr th {\n",
       "        vertical-align: top;\n",
       "    }\n",
       "\n",
       "    .dataframe thead th {\n",
       "        text-align: right;\n",
       "    }\n",
       "</style>\n",
       "<table border=\"1\" class=\"dataframe\">\n",
       "  <thead>\n",
       "    <tr style=\"text-align: right;\">\n",
       "      <th></th>\n",
       "      <th>Luka Doncic</th>\n",
       "      <th>Kawhi Leonard</th>\n",
       "      <th>Zion Williamson</th>\n",
       "      <th>Fred VanVleet</th>\n",
       "      <th>Jusuf Nurkic</th>\n",
       "      <th>Steven Adams</th>\n",
       "      <th>Victor Oladipo</th>\n",
       "      <th>Julius Randle</th>\n",
       "      <th>Caris LeVert</th>\n",
       "      <th>Blake Griffin</th>\n",
       "      <th>...</th>\n",
       "      <th>DeMar DeRozan</th>\n",
       "      <th>Zach LaVine</th>\n",
       "      <th>Jonas Valanciunas</th>\n",
       "      <th>Delon Wright</th>\n",
       "      <th>LaMelo Ball</th>\n",
       "      <th>Aaron Gordon</th>\n",
       "      <th>Serge Ibaka</th>\n",
       "      <th>Spencer Dinwiddie</th>\n",
       "      <th>Evan Fournier</th>\n",
       "      <th>Marvin Bagley</th>\n",
       "    </tr>\n",
       "  </thead>\n",
       "  <tbody>\n",
       "  </tbody>\n",
       "</table>\n",
       "<p>0 rows × 127 columns</p>\n",
       "</div>"
      ],
      "text/plain": [
       "Empty DataFrame\n",
       "Columns: [Luka Doncic, Kawhi Leonard, Zion Williamson, Fred VanVleet, Jusuf Nurkic, Steven Adams, Victor Oladipo, Julius Randle, Caris LeVert, Blake Griffin, RJ Barrett, Anthony Edwards, James Harden, Russell Westbrook, Jimmy Butler, Rudy Gobert, Chris Paul, Robert Covington, Al Horford, Lonzo Ball, Mason Plumlee, Markelle Fultz, Otto Porter, Terrence Ross, Nikola Jokic, Shai Gilgeous-Alexander, Kyrie Irving, D'Angelo Russell, Kelly Oubre, Draymond Green, Dennis Schroder, Josh Richardson, Kemba Walker, Lauri Markkanen, Myles Turner, Dillon Brooks, Seth Curry, Anthony Davis, Devin Booker, Bam Adebayo, Jamal Murray, John Collins, Devonte' Graham, Michael Porter, Buddy Hield, Danilo Gallinari, Obi Toppin, Rui Hachimura, De'Andre Hunter, Keldon Johnson, Damian Lillard, Pascal Siakam, Brandon Ingram, Ja Morant, Malcolm Brogdon, Andrew Wiggins, Donte DiVincenzo, Terry Rozier, Thomas Bryant, Larry Nance, Tyrese Haliburton, Kyle Kuzma, Tim Hardaway, Trae Young, Jayson Tatum, Deandre Ayton, Donovan Mitchell, De'Aaron Fox, Gordon Hayward, Tyler Herro, Kevin Love, Marcus Smart, Bogdan Bogdanovic, James Wiseman, Darius Garland, Chris Boucher, Karl-Anthony Towns, Stephen Curry, Jrue Holiday, Tobias Harris, T.J. Warren, Kristaps Porzingis, John Wall, Clint Capela, Ricky Rubio, Ivica Zubac, Mikal Bridges, Harrison Barnes, Derrick Rose, Kevin Durant, Ben Simmons, Nikola Vucevic, Khris Middleton, CJ McCollum, Christian Wood, Jaylen Brown, LaMarcus Aldridge, Dejounte Murray, Jaren Jackson, Richaun Holmes, ...]\n",
       "Index: []\n",
       "\n",
       "[0 rows x 127 columns]"
      ]
     },
     "execution_count": 49,
     "metadata": {},
     "output_type": "execute_result"
    }
   ],
   "source": []
  },
  {
   "cell_type": "code",
   "execution_count": 50,
   "metadata": {},
   "outputs": [
    {
     "data": {
      "text/plain": [
       "308"
      ]
     },
     "execution_count": 50,
     "metadata": {},
     "output_type": "execute_result"
    }
   ],
   "source": [
    "len(freeAgents)"
   ]
  },
  {
   "cell_type": "code",
   "execution_count": 55,
   "metadata": {},
   "outputs": [],
   "source": [
    "freeAgentsDF = DataFrame(freeAgents)"
   ]
  },
  {
   "cell_type": "code",
   "execution_count": 56,
   "metadata": {},
   "outputs": [],
   "source": [
    "freeAgentsDF.to_csv(r'freeAgents.csv')"
   ]
  },
  {
   "cell_type": "code",
   "execution_count": null,
   "metadata": {},
   "outputs": [],
   "source": []
  }
 ],
 "metadata": {
  "kernelspec": {
   "display_name": "Python 3",
   "language": "python",
   "name": "python3"
  },
  "language_info": {
   "codemirror_mode": {
    "name": "ipython",
    "version": 3
   },
   "file_extension": ".py",
   "mimetype": "text/x-python",
   "name": "python",
   "nbconvert_exporter": "python",
   "pygments_lexer": "ipython3",
   "version": "3.8.5"
  }
 },
 "nbformat": 4,
 "nbformat_minor": 4
}
